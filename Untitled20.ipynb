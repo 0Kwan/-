{
  "cells": [
    {
      "cell_type": "code",
      "execution_count": 2,
      "metadata": {
        "id": "zXYIu6rT6mpI"
      },
      "outputs": [],
      "source": [
        "import pandas as pd\n",
        "import numpy as np\n",
        "import matplotlib.pyplot as plt\n",
        "import cv2\n",
        "import random\n",
        "import os\n",
        "import tensorflow as tf\n",
        "\n",
        "from tensorflow.keras import regularizers, layers \n",
        "from tensorflow.keras.layers import Dense, Activation,Dropout,Conv2D, MaxPooling2D,BatchNormalization, Flatten\n",
        "from tensorflow import keras\n",
        "from tensorflow.keras.preprocessing.image import ImageDataGenerator\n",
        "from tensorflow.keras.preprocessing.image import img_to_array,load_img\n",
        "from tensorflow.keras.applications.inception_v3 import InceptionV3\n",
        "from tensorflow.keras.callbacks import EarlyStopping,ModelCheckpoint\n",
        "from tensorflow.keras.layers import GlobalAveragePooling2D,GlobalMaxPooling2D\n",
        "from tensorflow.keras.models import Model,Sequential\n",
        "from tensorflow.keras.optimizers import Adam\n",
        "from sklearn.metrics import confusion_matrix,classification_report"
      ]
    },
    {
      "cell_type": "code",
      "execution_count": 3,
      "metadata": {
        "colab": {
          "base_uri": "https://localhost:8080/",
          "height": 93
        },
        "id": "i4h-1U8s7Dn-",
        "outputId": "8e5bd1d6-608f-414d-82f6-9dba15fc63e0"
      },
      "outputs": [
        {
          "output_type": "display_data",
          "data": {
            "text/plain": [
              "<IPython.core.display.HTML object>"
            ],
            "text/html": [
              "\n",
              "     <input type=\"file\" id=\"files-bc22bfab-ff15-4e62-a6f8-48ddc7798706\" name=\"files[]\" multiple disabled\n",
              "        style=\"border:none\" />\n",
              "     <output id=\"result-bc22bfab-ff15-4e62-a6f8-48ddc7798706\">\n",
              "      Upload widget is only available when the cell has been executed in the\n",
              "      current browser session. Please rerun this cell to enable.\n",
              "      </output>\n",
              "      <script>// Copyright 2017 Google LLC\n",
              "//\n",
              "// Licensed under the Apache License, Version 2.0 (the \"License\");\n",
              "// you may not use this file except in compliance with the License.\n",
              "// You may obtain a copy of the License at\n",
              "//\n",
              "//      http://www.apache.org/licenses/LICENSE-2.0\n",
              "//\n",
              "// Unless required by applicable law or agreed to in writing, software\n",
              "// distributed under the License is distributed on an \"AS IS\" BASIS,\n",
              "// WITHOUT WARRANTIES OR CONDITIONS OF ANY KIND, either express or implied.\n",
              "// See the License for the specific language governing permissions and\n",
              "// limitations under the License.\n",
              "\n",
              "/**\n",
              " * @fileoverview Helpers for google.colab Python module.\n",
              " */\n",
              "(function(scope) {\n",
              "function span(text, styleAttributes = {}) {\n",
              "  const element = document.createElement('span');\n",
              "  element.textContent = text;\n",
              "  for (const key of Object.keys(styleAttributes)) {\n",
              "    element.style[key] = styleAttributes[key];\n",
              "  }\n",
              "  return element;\n",
              "}\n",
              "\n",
              "// Max number of bytes which will be uploaded at a time.\n",
              "const MAX_PAYLOAD_SIZE = 100 * 1024;\n",
              "\n",
              "function _uploadFiles(inputId, outputId) {\n",
              "  const steps = uploadFilesStep(inputId, outputId);\n",
              "  const outputElement = document.getElementById(outputId);\n",
              "  // Cache steps on the outputElement to make it available for the next call\n",
              "  // to uploadFilesContinue from Python.\n",
              "  outputElement.steps = steps;\n",
              "\n",
              "  return _uploadFilesContinue(outputId);\n",
              "}\n",
              "\n",
              "// This is roughly an async generator (not supported in the browser yet),\n",
              "// where there are multiple asynchronous steps and the Python side is going\n",
              "// to poll for completion of each step.\n",
              "// This uses a Promise to block the python side on completion of each step,\n",
              "// then passes the result of the previous step as the input to the next step.\n",
              "function _uploadFilesContinue(outputId) {\n",
              "  const outputElement = document.getElementById(outputId);\n",
              "  const steps = outputElement.steps;\n",
              "\n",
              "  const next = steps.next(outputElement.lastPromiseValue);\n",
              "  return Promise.resolve(next.value.promise).then((value) => {\n",
              "    // Cache the last promise value to make it available to the next\n",
              "    // step of the generator.\n",
              "    outputElement.lastPromiseValue = value;\n",
              "    return next.value.response;\n",
              "  });\n",
              "}\n",
              "\n",
              "/**\n",
              " * Generator function which is called between each async step of the upload\n",
              " * process.\n",
              " * @param {string} inputId Element ID of the input file picker element.\n",
              " * @param {string} outputId Element ID of the output display.\n",
              " * @return {!Iterable<!Object>} Iterable of next steps.\n",
              " */\n",
              "function* uploadFilesStep(inputId, outputId) {\n",
              "  const inputElement = document.getElementById(inputId);\n",
              "  inputElement.disabled = false;\n",
              "\n",
              "  const outputElement = document.getElementById(outputId);\n",
              "  outputElement.innerHTML = '';\n",
              "\n",
              "  const pickedPromise = new Promise((resolve) => {\n",
              "    inputElement.addEventListener('change', (e) => {\n",
              "      resolve(e.target.files);\n",
              "    });\n",
              "  });\n",
              "\n",
              "  const cancel = document.createElement('button');\n",
              "  inputElement.parentElement.appendChild(cancel);\n",
              "  cancel.textContent = 'Cancel upload';\n",
              "  const cancelPromise = new Promise((resolve) => {\n",
              "    cancel.onclick = () => {\n",
              "      resolve(null);\n",
              "    };\n",
              "  });\n",
              "\n",
              "  // Wait for the user to pick the files.\n",
              "  const files = yield {\n",
              "    promise: Promise.race([pickedPromise, cancelPromise]),\n",
              "    response: {\n",
              "      action: 'starting',\n",
              "    }\n",
              "  };\n",
              "\n",
              "  cancel.remove();\n",
              "\n",
              "  // Disable the input element since further picks are not allowed.\n",
              "  inputElement.disabled = true;\n",
              "\n",
              "  if (!files) {\n",
              "    return {\n",
              "      response: {\n",
              "        action: 'complete',\n",
              "      }\n",
              "    };\n",
              "  }\n",
              "\n",
              "  for (const file of files) {\n",
              "    const li = document.createElement('li');\n",
              "    li.append(span(file.name, {fontWeight: 'bold'}));\n",
              "    li.append(span(\n",
              "        `(${file.type || 'n/a'}) - ${file.size} bytes, ` +\n",
              "        `last modified: ${\n",
              "            file.lastModifiedDate ? file.lastModifiedDate.toLocaleDateString() :\n",
              "                                    'n/a'} - `));\n",
              "    const percent = span('0% done');\n",
              "    li.appendChild(percent);\n",
              "\n",
              "    outputElement.appendChild(li);\n",
              "\n",
              "    const fileDataPromise = new Promise((resolve) => {\n",
              "      const reader = new FileReader();\n",
              "      reader.onload = (e) => {\n",
              "        resolve(e.target.result);\n",
              "      };\n",
              "      reader.readAsArrayBuffer(file);\n",
              "    });\n",
              "    // Wait for the data to be ready.\n",
              "    let fileData = yield {\n",
              "      promise: fileDataPromise,\n",
              "      response: {\n",
              "        action: 'continue',\n",
              "      }\n",
              "    };\n",
              "\n",
              "    // Use a chunked sending to avoid message size limits. See b/62115660.\n",
              "    let position = 0;\n",
              "    do {\n",
              "      const length = Math.min(fileData.byteLength - position, MAX_PAYLOAD_SIZE);\n",
              "      const chunk = new Uint8Array(fileData, position, length);\n",
              "      position += length;\n",
              "\n",
              "      const base64 = btoa(String.fromCharCode.apply(null, chunk));\n",
              "      yield {\n",
              "        response: {\n",
              "          action: 'append',\n",
              "          file: file.name,\n",
              "          data: base64,\n",
              "        },\n",
              "      };\n",
              "\n",
              "      let percentDone = fileData.byteLength === 0 ?\n",
              "          100 :\n",
              "          Math.round((position / fileData.byteLength) * 100);\n",
              "      percent.textContent = `${percentDone}% done`;\n",
              "\n",
              "    } while (position < fileData.byteLength);\n",
              "  }\n",
              "\n",
              "  // All done.\n",
              "  yield {\n",
              "    response: {\n",
              "      action: 'complete',\n",
              "    }\n",
              "  };\n",
              "}\n",
              "\n",
              "scope.google = scope.google || {};\n",
              "scope.google.colab = scope.google.colab || {};\n",
              "scope.google.colab._files = {\n",
              "  _uploadFiles,\n",
              "  _uploadFilesContinue,\n",
              "};\n",
              "})(self);\n",
              "</script> "
            ]
          },
          "metadata": {}
        },
        {
          "output_type": "stream",
          "name": "stdout",
          "text": [
            "Saving kaggle.json to kaggle (1).json\n"
          ]
        },
        {
          "output_type": "execute_result",
          "data": {
            "text/plain": [
              "{'kaggle.json': b'{\"username\":\"youngkwan\",\"key\":\"aed7e8cb952aa5cc5a34fafc0dd0673a\"}'}"
            ]
          },
          "metadata": {},
          "execution_count": 3
        }
      ],
      "source": [
        "!pip install -q kaggle\n",
        "from google.colab import files\n",
        "files.upload()\n"
      ]
    },
    {
      "cell_type": "code",
      "execution_count": 4,
      "metadata": {
        "colab": {
          "base_uri": "https://localhost:8080/"
        },
        "id": "kFAqSaaX77GU",
        "outputId": "39877681-348c-4b2a-8ba5-767baa73078a"
      },
      "outputs": [
        {
          "output_type": "stream",
          "name": "stdout",
          "text": [
            "kaggle.json\n"
          ]
        }
      ],
      "source": [
        "ls -1ha kaggle.json"
      ]
    },
    {
      "cell_type": "code",
      "execution_count": 5,
      "metadata": {
        "id": "jDbqLz2B7-zB"
      },
      "outputs": [],
      "source": [
        "!mkdir -p ~/.kaggle\n",
        "!cp kaggle.json ~/.kaggle/\n",
        "\n",
        "# Permission Warning 방지\n",
        "!chmod 600 ~/.kaggle/kaggle.json"
      ]
    },
    {
      "cell_type": "code",
      "execution_count": 6,
      "metadata": {
        "colab": {
          "base_uri": "https://localhost:8080/"
        },
        "id": "GCxw-ItH8IME",
        "outputId": "7f120081-2d71-4ab9-fbcd-25494cb3fb80"
      },
      "outputs": [
        {
          "output_type": "stream",
          "name": "stdout",
          "text": [
            "ham1000-segmentation-and-classification.zip: Skipping, found more recently modified local copy (use --force to force download)\n"
          ]
        }
      ],
      "source": [
        "! kaggle datasets download -d surajghuwalewala/ham1000-segmentation-and-classification"
      ]
    },
    {
      "cell_type": "code",
      "execution_count": 7,
      "metadata": {
        "colab": {
          "base_uri": "https://localhost:8080/"
        },
        "id": "1BrqfFG1BZyN",
        "outputId": "2fec3082-ba30-4997-ed54-1528ed27537f"
      },
      "outputs": [
        {
          "output_type": "stream",
          "name": "stdout",
          "text": [
            " cancer-7.txt\t\t\t\t       images\t\t  masks\n",
            " GroundTruth.csv\t\t\t      'kaggle (1).json'   sample_data\n",
            " ham1000-segmentation-and-classification.zip   kaggle.json\n"
          ]
        }
      ],
      "source": [
        "!ls"
      ]
    },
    {
      "cell_type": "code",
      "execution_count": null,
      "metadata": {
        "colab": {
          "base_uri": "https://localhost:8080/"
        },
        "id": "UDYEZVAeBlWR",
        "outputId": "145b5729-f8c9-4402-e1e8-de55f927fc30"
      },
      "outputs": [
        {
          "output_type": "stream",
          "name": "stdout",
          "text": [
            "Archive:  /content/ham1000-segmentation-and-classification.zip\n",
            "replace GroundTruth.csv? [y]es, [n]o, [A]ll, [N]one, [r]ename: n\n",
            "replace images/ATTRIBUTION.txt? [y]es, [n]o, [A]ll, [N]one, [r]ename: n\n",
            "replace images/ISIC_0024306.jpg? [y]es, [n]o, [A]ll, [N]one, [r]ename: "
          ]
        }
      ],
      "source": [
        "!unzip /content/ham1000-segmentation-and-classification.zip"
      ]
    },
    {
      "cell_type": "code",
      "execution_count": 9,
      "metadata": {
        "colab": {
          "base_uri": "https://localhost:8080/"
        },
        "id": "XkPzAaHHDw8u",
        "outputId": "f0fe4060-ebce-4d7b-a3e2-0061f1afae01"
      },
      "outputs": [
        {
          "output_type": "stream",
          "name": "stdout",
          "text": [
            " cancer-7.txt\t\t\t\t       images\t\t  masks\n",
            " GroundTruth.csv\t\t\t      'kaggle (1).json'   sample_data\n",
            " ham1000-segmentation-and-classification.zip   kaggle.json\n"
          ]
        }
      ],
      "source": [
        "!ls"
      ]
    },
    {
      "cell_type": "code",
      "execution_count": 10,
      "metadata": {
        "id": "ZztNLvndEE3X"
      },
      "outputs": [],
      "source": [
        "df = pd.read_csv('GroundTruth.csv')"
      ]
    },
    {
      "cell_type": "markdown",
      "metadata": {
        "id": "yLQyP2mXHRS5"
      },
      "source": [
        "광선각화증(akiec)\n",
        "\n",
        "기저세포암(basal cell carcinoma, bcc)\n",
        "\n",
        "지루각화증(bkl)\n",
        "\n",
        "피부섬유종(dermatofibroma, df)\n",
        "\n",
        "악성흑색종(melanoma, mel)\n",
        "\n",
        "비정형색소모반(Melanocytic nevi, nv)\n",
        "\n",
        "혈관종(vascular lesion, vasc)"
      ]
    },
    {
      "cell_type": "code",
      "execution_count": 11,
      "metadata": {
        "id": "B-iSB_BWF4Xw"
      },
      "outputs": [],
      "source": [
        "labels     =['MEL', 'NV', 'BCC', 'AKIEC', 'BKL', 'DF', 'VASC']\n",
        "label_list =[]\n",
        "for i in range (len(df)):\n",
        "    row = list(df.iloc[i])\n",
        "    del row[0]\n",
        "    index = np.argmax(row)\n",
        "    label = labels[index]\n",
        "    label_list.append(label)\n",
        "df['label'] = label_list\n",
        "df=df.drop(labels, axis=1)"
      ]
    },
    {
      "cell_type": "code",
      "execution_count": 12,
      "metadata": {
        "id": "sH4FqMd8GDgP"
      },
      "outputs": [],
      "source": [
        "df['image']= df['image']+'.jpg'"
      ]
    },
    {
      "cell_type": "code",
      "execution_count": 13,
      "metadata": {
        "id": "jU57H_u-gsLS"
      },
      "outputs": [],
      "source": [
        "from sklearn.model_selection import train_test_split\n",
        "train_df, dummy_df = train_test_split(df, test_size=0.2, random_state=1)"
      ]
    },
    {
      "cell_type": "code",
      "source": [
        "val_df, test_df = train_test_split(dummy_df, test_size=0.5, random_state=1)"
      ],
      "metadata": {
        "id": "r3cLPaVH7-_U"
      },
      "execution_count": 14,
      "outputs": []
    },
    {
      "cell_type": "code",
      "execution_count": 15,
      "metadata": {
        "colab": {
          "base_uri": "https://localhost:8080/"
        },
        "id": "uK0v7uFX6rVt",
        "outputId": "d531ea76-8f98-4d2f-f949-fac7eeca2deb"
      },
      "outputs": [
        {
          "output_type": "execute_result",
          "data": {
            "text/plain": [
              "NV       5369\n",
              "MEL       902\n",
              "BKL       870\n",
              "BCC       408\n",
              "AKIEC     254\n",
              "VASC      118\n",
              "DF         91\n",
              "Name: label, dtype: int64"
            ]
          },
          "metadata": {},
          "execution_count": 15
        }
      ],
      "source": [
        "train_df.label.value_counts()"
      ]
    },
    {
      "cell_type": "code",
      "source": [
        "val_df.label.value_counts()"
      ],
      "metadata": {
        "colab": {
          "base_uri": "https://localhost:8080/"
        },
        "id": "3t3g8Gcx8IS6",
        "outputId": "692ab233-5d88-4103-abe7-5547f1d38276"
      },
      "execution_count": 60,
      "outputs": [
        {
          "output_type": "execute_result",
          "data": {
            "text/plain": [
              "NV       677\n",
              "MEL      117\n",
              "BKL      101\n",
              "BCC       50\n",
              "AKIEC     36\n",
              "VASC      11\n",
              "DF         9\n",
              "Name: label, dtype: int64"
            ]
          },
          "metadata": {},
          "execution_count": 60
        }
      ]
    },
    {
      "cell_type": "code",
      "source": [
        "test_df.label.value_counts()"
      ],
      "metadata": {
        "colab": {
          "base_uri": "https://localhost:8080/"
        },
        "id": "kKC_crte8KnP",
        "outputId": "10330105-0de7-4248-cf75-b035c6c15be3"
      },
      "execution_count": 61,
      "outputs": [
        {
          "output_type": "execute_result",
          "data": {
            "text/plain": [
              "NV       659\n",
              "BKL      128\n",
              "MEL       94\n",
              "BCC       56\n",
              "AKIEC     37\n",
              "DF        15\n",
              "VASC      13\n",
              "Name: label, dtype: int64"
            ]
          },
          "metadata": {},
          "execution_count": 61
        }
      ]
    },
    {
      "cell_type": "code",
      "execution_count": 16,
      "metadata": {
        "id": "OojjRQHb-4RA"
      },
      "outputs": [],
      "source": [
        "from PIL import Image"
      ]
    },
    {
      "cell_type": "code",
      "execution_count": 17,
      "metadata": {
        "colab": {
          "base_uri": "https://localhost:8080/"
        },
        "id": "uzvEJdCe-rNE",
        "outputId": "f29b0569-fad1-4163-fa69-1eee6c34ee8d"
      },
      "outputs": [
        {
          "output_type": "execute_result",
          "data": {
            "text/plain": [
              "(450, 600, 3)"
            ]
          },
          "metadata": {},
          "execution_count": 17
        }
      ],
      "source": [
        "fpath=r'/content/images/ISIC_0024306.jpg'# 사이즈(450,600) 3채널\n",
        "img=plt.imread(fpath)\n",
        "img.shape\n"
      ]
    },
    {
      "cell_type": "code",
      "execution_count": 18,
      "metadata": {
        "colab": {
          "base_uri": "https://localhost:8080/"
        },
        "id": "QGVKRp4dBJSo",
        "outputId": "18c5656a-19b8-454b-8ff1-27d7a94780d9"
      },
      "outputs": [
        {
          "output_type": "execute_result",
          "data": {
            "text/plain": [
              "NV       250\n",
              "MEL      250\n",
              "BKL      250\n",
              "AKIEC    250\n",
              "BCC      250\n",
              "VASC     142\n",
              "DF       115\n",
              "Name: label, dtype: int64"
            ]
          },
          "metadata": {},
          "execution_count": 18
        }
      ],
      "source": [
        "samples = []\n",
        "group   = df.groupby('label')\n",
        "for label in df['label'].unique():\n",
        "    Lgroup = group.get_group(label)\n",
        "    count  = int(Lgroup['label'].value_counts())    \n",
        "    if count>=250:\n",
        "        sample = Lgroup.sample(250, axis=0)        \n",
        "    else:        \n",
        "        sample = Lgroup.sample(frac=1, axis=0)\n",
        "    samples.append(sample) \n",
        "train_df = pd.concat(samples, axis=0).reset_index(drop=True)     \n",
        "train_df['label'].value_counts()"
      ]
    },
    {
      "cell_type": "code",
      "source": [
        "sdir=r'/content/images' # main directory where data is stored\n",
        "save_dir=r'./' # output directory where model will be saved\n",
        "subject='cancer' # part of the name of the saved model\n",
        "height=224 # image height\n",
        "width=224  # image width\n",
        "channels=3  # number of color channels\n",
        "batch_size=16  # model batch size for training and evaluation\n",
        "img_shape=(height, width, channels)\n",
        "img_size=(height, width)\n",
        "# code below determines test generator batch size and steps so that test_batch_size X test_steps = number of test samples\n",
        "# ensures that for predictions you go through the test set exactly once\n",
        "length=len(test_df)\n",
        "test_batch_size=sorted([int(length/n) for n in range(1,length+1) if length % n ==0 and length/n<=80],reverse=True)[0]  \n",
        "test_steps=int(length/test_batch_size)\n",
        "print ( 'test batch size: ' ,test_batch_size, 'test steps: ', test_steps)\n",
        "#\n",
        "def scalar(img): # unused for efficientnet model\n",
        "    return img/127.5-1  # scale pixel between -1 and +1\n",
        "gen=ImageDataGenerator() # no scaling of pixels is need for efficientnet\n",
        "train_gen=gen.flow_from_dataframe( train_df, sdir, x_col='image', y_col='label', target_size=img_size, class_mode='categorical',\n",
        "                                    color_mode='rgb', shuffle=True, batch_size=batch_size)\n",
        "test_gen=gen.flow_from_dataframe( test_df, sdir, x_col='image', y_col='label', target_size=img_size, class_mode='categorical',\n",
        "                                    color_mode='rgb', shuffle=False, batch_size=test_batch_size)\n",
        "val_gen=gen.flow_from_dataframe( val_df, sdir, x_col='image', y_col='label', target_size=img_size, class_mode='categorical',\n",
        "                                    color_mode='rgb', shuffle=False, batch_size=test_batch_size)\n",
        "\n",
        "classes=list(train_gen.class_indices.keys())\n",
        "\n",
        "class_count=len(classes)\n",
        "train_steps=int(len(train_gen.labels)/batch_size)"
      ],
      "metadata": {
        "colab": {
          "base_uri": "https://localhost:8080/"
        },
        "id": "xtXfmyr2kBjq",
        "outputId": "de0fe4c7-a604-4952-f15d-897d7f646066"
      },
      "execution_count": 21,
      "outputs": [
        {
          "output_type": "stream",
          "name": "stdout",
          "text": [
            "test batch size:  6 test steps:  167\n",
            "Found 1507 validated image filenames belonging to 7 classes.\n",
            "Found 1002 validated image filenames belonging to 7 classes.\n",
            "Found 1001 validated image filenames belonging to 7 classes.\n"
          ]
        }
      ]
    },
    {
      "cell_type": "code",
      "source": [
        "def show_image_samples(gen ):\n",
        "    test_dict=test_gen.class_indices\n",
        "    classes=list(test_dict.keys())    \n",
        "    images,labels=next(gen) # get a sample batch from the generator \n",
        "    plt.figure(figsize=(20, 20))\n",
        "    length=len(labels)\n",
        "    if length<25:   #show maximum of 25 images\n",
        "        r=length\n",
        "    else:\n",
        "        r=25\n",
        "    for i in range(r):\n",
        "        plt.subplot(5, 5, i + 1)\n",
        "        image=images[i]/255 # scale images between 0 and 1 becaue no preprocessing scaling was done for efficientnet\n",
        "        plt.imshow(image)\n",
        "        index=np.argmax(labels[i])\n",
        "        class_name=classes[index]\n",
        "        plt.title(class_name, color='blue', fontsize=16)\n",
        "        plt.axis('off')\n",
        "    plt.show()"
      ],
      "metadata": {
        "id": "tZpVOZI9kjd5"
      },
      "execution_count": null,
      "outputs": []
    },
    {
      "cell_type": "code",
      "source": [
        "model = keras.models.Sequential()\n",
        "\n",
        "model.add(layers.Conv2D(32, (3, 3), activation='relu', input_shape=(224, 224, 3)))\n",
        "model.add(layers.MaxPooling2D((2, 2)))\n",
        "\n",
        "model.add(layers.Conv2D(64, (3, 3), activation='relu'))\n",
        "model.add(layers.MaxPooling2D((2, 2)))\n",
        "\n",
        "model.add(layers.Conv2D(128, (3, 3), activation='relu'))\n",
        "model.add(layers.MaxPooling2D((2, 2)))\n",
        "\n",
        "model.add(layers.Flatten())\n",
        "\n",
        "model.add(layers.Dense(256, activation='relu'))\n",
        "model.add(layers.Dense(7,activation='softmax'))\n",
        "model.compile(optimizer='adam', loss='categorical_crossentropy', metrics=['accuracy'])"
      ],
      "metadata": {
        "colab": {
          "base_uri": "https://localhost:8080/",
          "height": 248
        },
        "id": "WI3ODocO0lco",
        "outputId": "03eb5cbc-9fe0-48e1-e13b-9991f5b481c4"
      },
      "execution_count": 1,
      "outputs": [
        {
          "output_type": "error",
          "ename": "NameError",
          "evalue": "ignored",
          "traceback": [
            "\u001b[0;31m---------------------------------------------------------------------------\u001b[0m",
            "\u001b[0;31mNameError\u001b[0m                                 Traceback (most recent call last)",
            "\u001b[0;32m<ipython-input-1-75f2a5043133>\u001b[0m in \u001b[0;36m<module>\u001b[0;34m\u001b[0m\n\u001b[0;32m----> 1\u001b[0;31m \u001b[0mmodel\u001b[0m \u001b[0;34m=\u001b[0m \u001b[0mkeras\u001b[0m\u001b[0;34m.\u001b[0m\u001b[0mmodels\u001b[0m\u001b[0;34m.\u001b[0m\u001b[0mSequential\u001b[0m\u001b[0;34m(\u001b[0m\u001b[0;34m)\u001b[0m\u001b[0;34m\u001b[0m\u001b[0;34m\u001b[0m\u001b[0m\n\u001b[0m\u001b[1;32m      2\u001b[0m \u001b[0;34m\u001b[0m\u001b[0m\n\u001b[1;32m      3\u001b[0m \u001b[0mmodel\u001b[0m\u001b[0;34m.\u001b[0m\u001b[0madd\u001b[0m\u001b[0;34m(\u001b[0m\u001b[0mlayers\u001b[0m\u001b[0;34m.\u001b[0m\u001b[0mConv2D\u001b[0m\u001b[0;34m(\u001b[0m\u001b[0;36m32\u001b[0m\u001b[0;34m,\u001b[0m \u001b[0;34m(\u001b[0m\u001b[0;36m3\u001b[0m\u001b[0;34m,\u001b[0m \u001b[0;36m3\u001b[0m\u001b[0;34m)\u001b[0m\u001b[0;34m,\u001b[0m \u001b[0mactivation\u001b[0m\u001b[0;34m=\u001b[0m\u001b[0;34m'relu'\u001b[0m\u001b[0;34m,\u001b[0m \u001b[0minput_shape\u001b[0m\u001b[0;34m=\u001b[0m\u001b[0;34m(\u001b[0m\u001b[0;36m224\u001b[0m\u001b[0;34m,\u001b[0m \u001b[0;36m224\u001b[0m\u001b[0;34m,\u001b[0m \u001b[0;36m3\u001b[0m\u001b[0;34m)\u001b[0m\u001b[0;34m)\u001b[0m\u001b[0;34m)\u001b[0m\u001b[0;34m\u001b[0m\u001b[0;34m\u001b[0m\u001b[0m\n\u001b[1;32m      4\u001b[0m \u001b[0mmodel\u001b[0m\u001b[0;34m.\u001b[0m\u001b[0madd\u001b[0m\u001b[0;34m(\u001b[0m\u001b[0mlayers\u001b[0m\u001b[0;34m.\u001b[0m\u001b[0mMaxPooling2D\u001b[0m\u001b[0;34m(\u001b[0m\u001b[0;34m(\u001b[0m\u001b[0;36m2\u001b[0m\u001b[0;34m,\u001b[0m \u001b[0;36m2\u001b[0m\u001b[0;34m)\u001b[0m\u001b[0;34m)\u001b[0m\u001b[0;34m)\u001b[0m\u001b[0;34m\u001b[0m\u001b[0;34m\u001b[0m\u001b[0m\n\u001b[1;32m      5\u001b[0m \u001b[0;34m\u001b[0m\u001b[0m\n",
            "\u001b[0;31mNameError\u001b[0m: name 'keras' is not defined"
          ]
        }
      ]
    },
    {
      "cell_type": "code",
      "source": [
        "history=model.fit(train_gen,\n",
        "          validation_data = val_gen,\n",
        "          steps_per_epoch = (train_gen.samples / train_gen.batch_size), \n",
        "          validation_steps = (val_gen.samples / val_gen.batch_size), \n",
        "          epochs=15)"
      ],
      "metadata": {
        "colab": {
          "base_uri": "https://localhost:8080/"
        },
        "id": "dYhVIcFsmwag",
        "outputId": "ec6d4e23-81dc-42cc-e026-008e7407b184"
      },
      "execution_count": 67,
      "outputs": [
        {
          "output_type": "stream",
          "name": "stdout",
          "text": [
            "Epoch 1/15\n",
            "376/376 [==============================] - 31s 82ms/step - loss: 1.9048 - accuracy: 0.1745 - val_loss: 1.8209 - val_accuracy: 0.0549\n",
            "Epoch 2/15\n",
            "376/376 [==============================] - 30s 79ms/step - loss: 1.9067 - accuracy: 0.1553 - val_loss: 1.8053 - val_accuracy: 0.0410\n",
            "Epoch 3/15\n",
            "376/376 [==============================] - 31s 81ms/step - loss: 1.9072 - accuracy: 0.1606 - val_loss: 1.8039 - val_accuracy: 0.0420\n",
            "Epoch 4/15\n",
            "376/376 [==============================] - 30s 78ms/step - loss: 1.9016 - accuracy: 0.1506 - val_loss: 1.8463 - val_accuracy: 0.0549\n",
            "Epoch 5/15\n",
            "376/376 [==============================] - 29s 78ms/step - loss: 1.8998 - accuracy: 0.1539 - val_loss: 1.7988 - val_accuracy: 0.1039\n",
            "Epoch 6/15\n",
            "376/376 [==============================] - 30s 80ms/step - loss: 1.8980 - accuracy: 0.1599 - val_loss: 1.8100 - val_accuracy: 0.1059\n",
            "Epoch 7/15\n",
            "376/376 [==============================] - 29s 78ms/step - loss: 1.8961 - accuracy: 0.1659 - val_loss: 1.8118 - val_accuracy: 0.1059\n",
            "Epoch 8/15\n",
            "376/376 [==============================] - 29s 78ms/step - loss: 1.8953 - accuracy: 0.1553 - val_loss: 1.7951 - val_accuracy: 0.6763\n",
            "Epoch 9/15\n",
            "376/376 [==============================] - 30s 80ms/step - loss: 2.2956 - accuracy: 0.1599 - val_loss: 1.8661 - val_accuracy: 0.1039\n",
            "Epoch 10/15\n",
            "376/376 [==============================] - 29s 78ms/step - loss: 1.9127 - accuracy: 0.1593 - val_loss: 1.8209 - val_accuracy: 0.0390\n",
            "Epoch 11/15\n",
            "376/376 [==============================] - 30s 80ms/step - loss: 1.8974 - accuracy: 0.1559 - val_loss: 1.8087 - val_accuracy: 0.6743\n",
            "Epoch 12/15\n",
            "376/376 [==============================] - 29s 77ms/step - loss: 1.9065 - accuracy: 0.1566 - val_loss: 1.7896 - val_accuracy: 0.6723\n",
            "Epoch 13/15\n",
            "376/376 [==============================] - 29s 77ms/step - loss: 1.9034 - accuracy: 0.1606 - val_loss: 1.8062 - val_accuracy: 0.0539\n",
            "Epoch 14/15\n",
            "376/376 [==============================] - 30s 80ms/step - loss: 1.8981 - accuracy: 0.1612 - val_loss: 1.8282 - val_accuracy: 0.0539\n",
            "Epoch 15/15\n",
            "376/376 [==============================] - 29s 77ms/step - loss: 1.8989 - accuracy: 0.1579 - val_loss: 1.8152 - val_accuracy: 0.0539\n"
          ]
        }
      ]
    },
    {
      "cell_type": "code",
      "source": [
        "model.evaluate(test_gen)"
      ],
      "metadata": {
        "colab": {
          "base_uri": "https://localhost:8080/"
        },
        "id": "pDm7Yj_WTvXu",
        "outputId": "dfdab930-a1f5-4487-dd6a-50ec5065804e"
      },
      "execution_count": 81,
      "outputs": [
        {
          "output_type": "stream",
          "name": "stdout",
          "text": [
            "1002/1002 [==============================] - 14s 14ms/step - loss: 1.8963 - accuracy: 0.0599\n"
          ]
        },
        {
          "output_type": "execute_result",
          "data": {
            "text/plain": [
              "[1.8963221311569214, 0.05988023802638054]"
            ]
          },
          "metadata": {},
          "execution_count": 81
        }
      ]
    },
    {
      "cell_type": "code",
      "source": [
        "# Plotting Training and Validation Accuracy\n",
        "plt.plot(history.history['accuracy'])\n",
        "plt.title('Model Accuracy')\n",
        "plt.xlabel('Epochs')\n",
        "plt.ylabel('Accuracy')\n",
        "plt.legend(['Acc'], loc = 'upper left');"
      ],
      "metadata": {
        "colab": {
          "base_uri": "https://localhost:8080/",
          "height": 295
        },
        "id": "niVdnOm3Xtwp",
        "outputId": "93832f77-913c-4e2c-87e5-be13d86cd46e"
      },
      "execution_count": 63,
      "outputs": [
        {
          "output_type": "display_data",
          "data": {
            "text/plain": [
              "<Figure size 432x288 with 1 Axes>"
            ],
            "image/png": "[encoded data removed]"
          },
          "metadata": {
            "needs_background": "light"
          }
        }
      ]
    },
    {
      "cell_type": "code",
      "source": [
        "# Plotting Training and Validation Error\n",
        "plt.plot(history.history['loss'])\n",
        "plt.title('Model Loss')\n",
        "plt.xlabel('Epochs')\n",
        "plt.ylabel('Loss')\n",
        "plt.legend(['loss','Val'], loc = 'upper left');"
      ],
      "metadata": {
        "colab": {
          "base_uri": "https://localhost:8080/",
          "height": 295
        },
        "id": "fTTlIymMaC01",
        "outputId": "35a92613-d8e0-4971-b4e7-f7413f4910e5"
      },
      "execution_count": 64,
      "outputs": [
        {
          "output_type": "display_data",
          "data": {
            "text/plain": [
              "<Figure size 432x288 with 1 Axes>"
            ],
            "image/png": "[encoded data removed]"
          },
          "metadata": {
            "needs_background": "light"
          }
        }
      ]
    },
    {
      "cell_type": "code",
      "source": [
        "from tensorflow.keras.applications.resnet_v2 import ResNet50V2, decode_predictions, preprocess_input\n",
        "ResNet_model1 = ResNet50V2(weights='imagenet', input_shape=(224,224,3), include_top=False, pooling='max')\n",
        "inputs = ResNet_model1.input\n",
        "\n",
        "x = ResNet_model1(inputs,training=False)\n",
        "\n",
        "x=Dropout(rate=.5, seed=1)(x)\n",
        "outputs = keras.layers.Dense(7, activation = 'softmax')(x)\n",
        "\n",
        "ResNet_model1 = keras.Model(inputs=inputs, outputs=outputs)"
      ],
      "metadata": {
        "id": "7l1wcN-NpyNV"
      },
      "execution_count": 22,
      "outputs": []
    },
    {
      "cell_type": "code",
      "source": [
        "ResNet_model1.compile(optimizer='adam', loss='categorical_crossentropy',metrics=['accuracy']) "
      ],
      "metadata": {
        "id": "lp2zxNryqX08"
      },
      "execution_count": 23,
      "outputs": []
    },
    {
      "cell_type": "code",
      "source": [
        "history_model1 = ResNet_model1.fit(train_gen,\n",
        "          validation_data = val_gen,\n",
        "          validation_steps = None, \n",
        "          epochs=10)"
      ],
      "metadata": {
        "colab": {
          "base_uri": "https://localhost:8080/"
        },
        "id": "T40uGGe0q83l",
        "outputId": "038f49b5-130a-406c-c7bf-0e06b1c9ccd4"
      },
      "execution_count": 30,
      "outputs": [
        {
          "output_type": "stream",
          "name": "stdout",
          "text": [
            "Epoch 1/10\n",
            "95/95 [==============================] - 33s 352ms/step - loss: 3.3688 - accuracy: 0.1612 - val_loss: 1.8202 - val_accuracy: 0.1169\n",
            "Epoch 2/10\n",
            "95/95 [==============================] - 30s 311ms/step - loss: 1.9294 - accuracy: 0.1712 - val_loss: 1.8896 - val_accuracy: 0.1009\n",
            "Epoch 3/10\n",
            "95/95 [==============================] - 30s 319ms/step - loss: 1.9258 - accuracy: 0.1652 - val_loss: 1.8967 - val_accuracy: 0.0500\n",
            "Epoch 4/10\n",
            "95/95 [==============================] - 30s 313ms/step - loss: 1.9155 - accuracy: 0.1639 - val_loss: 1.7790 - val_accuracy: 0.5904\n",
            "Epoch 5/10\n",
            "95/95 [==============================] - 31s 327ms/step - loss: 1.9130 - accuracy: 0.1792 - val_loss: 1.6675 - val_accuracy: 0.6763\n",
            "Epoch 6/10\n",
            "95/95 [==============================] - 30s 311ms/step - loss: 1.9067 - accuracy: 0.1898 - val_loss: 1.4360 - val_accuracy: 0.5295\n",
            "Epoch 7/10\n",
            "95/95 [==============================] - 30s 313ms/step - loss: 2.3427 - accuracy: 0.2097 - val_loss: 1.7922 - val_accuracy: 0.5165\n",
            "Epoch 8/10\n",
            "95/95 [==============================] - 30s 317ms/step - loss: 4.0468 - accuracy: 0.1692 - val_loss: 1.7953 - val_accuracy: 0.1988\n",
            "Epoch 9/10\n",
            "95/95 [==============================] - 30s 312ms/step - loss: 6686.5015 - accuracy: 0.1612 - val_loss: 53.2987 - val_accuracy: 0.0500\n",
            "Epoch 10/10\n",
            "95/95 [==============================] - 30s 319ms/step - loss: 23773.2637 - accuracy: 0.1480 - val_loss: 303682.2500 - val_accuracy: 0.0360\n"
          ]
        }
      ]
    },
    {
      "cell_type": "code",
      "source": [
        "result1=ResNet_model1.evaluate(test_gen, steps=test_gen.samples/test_gen.batch_size)"
      ],
      "metadata": {
        "colab": {
          "base_uri": "https://localhost:8080/"
        },
        "id": "MxusH_Q0uk5Q",
        "outputId": "3cc515b9-74e5-47be-bf26-ebdcc80c9ab6"
      },
      "execution_count": 25,
      "outputs": [
        {
          "output_type": "stream",
          "name": "stdout",
          "text": [
            "167/167 [==============================] - 12s 69ms/step - loss: 24.7355 - accuracy: 0.1727\n"
          ]
        }
      ]
    },
    {
      "cell_type": "code",
      "source": [
        "vgg_model = keras.applications.VGG16(weights='imagenet', input_shape=(224, 224, 3), include_top=False) "
      ],
      "metadata": {
        "colab": {
          "base_uri": "https://localhost:8080/"
        },
        "id": "IzGQ3IA9K-gm",
        "outputId": "c8105c80-fcee-49ed-c705-14f0adca8ca5"
      },
      "execution_count": 26,
      "outputs": [
        {
          "output_type": "stream",
          "name": "stdout",
          "text": [
            "Downloading data from https://storage.googleapis.com/tensorflow/keras-applications/vgg16/vgg16_weights_tf_dim_ordering_tf_kernels_notop.h5\n",
            "58889256/58889256 [==============================] - 2s 0us/step\n"
          ]
        }
      ]
    },
    {
      "cell_type": "code",
      "source": [
        "vgg_model.summary()"
      ],
      "metadata": {
        "colab": {
          "base_uri": "https://localhost:8080/"
        },
        "id": "VxuYfqpSTOzr",
        "outputId": "e460f447-9e2a-480d-c896-d940a1715207"
      },
      "execution_count": 40,
      "outputs": [
        {
          "output_type": "stream",
          "name": "stdout",
          "text": [
            "Model: \"model_3\"\n",
            "_________________________________________________________________\n",
            " Layer (type)                Output Shape              Param #   \n",
            "=================================================================\n",
            " input_2 (InputLayer)        [(None, 224, 224, 3)]     0         \n",
            "                                                                 \n",
            " model_2 (Functional)        (None, 7, 7, 7)           14718335  \n",
            "                                                                 \n",
            " global_average_pooling2d (G  (None, 7)                0         \n",
            " lobalAveragePooling2D)                                          \n",
            "                                                                 \n",
            " dense_3 (Dense)             (None, 7)                 56        \n",
            "                                                                 \n",
            "=================================================================\n",
            "Total params: 14,718,391\n",
            "Trainable params: 14,718,391\n",
            "Non-trainable params: 0\n",
            "_________________________________________________________________\n"
          ]
        }
      ]
    },
    {
      "cell_type": "code",
      "source": [
        "inputs = vgg_model.input\n",
        "\n",
        "x = vgg_model(inputs,training=False)\n",
        "\n",
        "x = keras.layers.GlobalAveragePooling2D()(x)\n",
        "\n",
        "outputs = keras.layers.Dense(7, activation = 'softmax')(x)\n",
        "\n",
        "vgg_model = keras.Model(inputs=inputs, outputs=outputs)"
      ],
      "metadata": {
        "id": "JAM5KfYxMoxt"
      },
      "execution_count": 39,
      "outputs": []
    },
    {
      "cell_type": "code",
      "source": [
        "vgg_model.compile(loss='categorical_crossentropy',metrics=['accuracy'], optimizer='adam') "
      ],
      "metadata": {
        "id": "UVbzdHIMQmzJ"
      },
      "execution_count": 41,
      "outputs": []
    },
    {
      "cell_type": "code",
      "source": [
        "history_model2 = vgg_model.fit(train_gen,\n",
        "          validation_data = val_gen,\n",
        "          steps_per_epoch = (train_gen.samples / train_gen.batch_size), \n",
        "          validation_steps = (val_gen.samples / val_gen.batch_size), \n",
        "          epochs=10)"
      ],
      "metadata": {
        "colab": {
          "base_uri": "https://localhost:8080/"
        },
        "id": "_gNEUfQdQtYt",
        "outputId": "4e314713-e2d3-4669-9362-86528ac52601"
      },
      "execution_count": 42,
      "outputs": [
        {
          "output_type": "stream",
          "name": "stdout",
          "text": [
            "Epoch 1/10\n",
            "94/94 [==============================] - 44s 417ms/step - loss: 1.9347 - accuracy: 0.1612 - val_loss: 1.9805 - val_accuracy: 0.0500\n",
            "Epoch 2/10\n",
            "94/94 [==============================] - 34s 366ms/step - loss: 1.9236 - accuracy: 0.1659 - val_loss: 1.9291 - val_accuracy: 0.0360\n",
            "Epoch 3/10\n",
            "94/94 [==============================] - 33s 355ms/step - loss: 1.9174 - accuracy: 0.1659 - val_loss: 1.8892 - val_accuracy: 0.0360\n",
            "Epoch 4/10\n",
            "94/94 [==============================] - 34s 362ms/step - loss: 1.9141 - accuracy: 0.1659 - val_loss: 1.8669 - val_accuracy: 0.0360\n",
            "Epoch 5/10\n",
            "94/94 [==============================] - 34s 361ms/step - loss: 1.9122 - accuracy: 0.1659 - val_loss: 1.8541 - val_accuracy: 0.0360\n",
            "Epoch 6/10\n",
            "94/94 [==============================] - 33s 354ms/step - loss: 1.9111 - accuracy: 0.1659 - val_loss: 1.8374 - val_accuracy: 0.0360\n",
            "Epoch 7/10\n",
            "94/94 [==============================] - 34s 361ms/step - loss: 1.9103 - accuracy: 0.1659 - val_loss: 1.8311 - val_accuracy: 0.0360\n",
            "Epoch 8/10\n",
            "94/94 [==============================] - 34s 361ms/step - loss: 1.9102 - accuracy: 0.1480 - val_loss: 1.8301 - val_accuracy: 0.0360\n",
            "Epoch 9/10\n",
            "94/94 [==============================] - 43s 455ms/step - loss: 1.9099 - accuracy: 0.1559 - val_loss: 1.8266 - val_accuracy: 0.1169\n",
            "Epoch 10/10\n",
            "94/94 [==============================] - 34s 358ms/step - loss: 1.9097 - accuracy: 0.1632 - val_loss: 1.8156 - val_accuracy: 0.0360\n"
          ]
        }
      ]
    }
  ],
  "metadata": {
    "accelerator": "GPU",
    "colab": {
      "provenance": []
    },
    "gpuClass": "standard",
    "kernelspec": {
      "display_name": "Python 3",
      "name": "python3"
    },
    "language_info": {
      "name": "python"
    }
  },
  "nbformat": 4,
  "nbformat_minor": 0
}